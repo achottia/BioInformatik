{
  "nbformat": 4,
  "nbformat_minor": 0,
  "metadata": {
    "colab": {
      "provenance": []
    },
    "kernelspec": {
      "name": "python3",
      "display_name": "Python 3"
    },
    "language_info": {
      "name": "python"
    }
  },
  "cells": [
    {
      "cell_type": "code",
      "execution_count": 1,
      "metadata": {
        "colab": {
          "base_uri": "https://localhost:8080/"
        },
        "id": "IKwAhLingXQO",
        "outputId": "8833acf2-7e93-4a6e-ad1d-c586d03fc893"
      },
      "outputs": [
        {
          "output_type": "stream",
          "name": "stdout",
          "text": [
            "Collecting biopython\n",
            "  Downloading biopython-1.85-cp311-cp311-manylinux_2_17_x86_64.manylinux2014_x86_64.whl.metadata (13 kB)\n",
            "Requirement already satisfied: numpy in /usr/local/lib/python3.11/dist-packages (from biopython) (2.0.2)\n",
            "Downloading biopython-1.85-cp311-cp311-manylinux_2_17_x86_64.manylinux2014_x86_64.whl (3.3 MB)\n",
            "\u001b[2K   \u001b[90m━━━━━━━━━━━━━━━━━━━━━━━━━━━━━━━━━━━━━━━━\u001b[0m \u001b[32m3.3/3.3 MB\u001b[0m \u001b[31m14.0 MB/s\u001b[0m eta \u001b[36m0:00:00\u001b[0m\n",
            "\u001b[?25hInstalling collected packages: biopython\n",
            "Successfully installed biopython-1.85\n"
          ]
        }
      ],
      "source": [
        "!pip install biopython\n",
        "from Bio import SeqIO\n",
        "from Bio.Seq import Seq\n",
        "import numpy as np"
      ]
    },
    {
      "cell_type": "code",
      "source": [
        "# Refer to the author's code\n",
        "def overlap(a, b, min_length=3):\n",
        "    \"\"\" Return length of longest suffix of 'a' matching\n",
        "        a prefix of 'b' that is at least 'min_length'\n",
        "        characters long.  If no such overlap exists,\n",
        "        return 0. \"\"\"\n",
        "    start = 0  # start all the way at the left\n",
        "    while True:\n",
        "        start = a.find(b[:min_length], start)  # look for b's suffx in a\n",
        "        if start == -1:  # no more occurrences to right\n",
        "            return 0\n",
        "        # found occurrence; check for full suffix/prefix match\n",
        "        if b.startswith(a[start:]):\n",
        "            return len(a)-start\n",
        "        start += 1  # move just past previous match"
      ],
      "metadata": {
        "id": "LvDrZrhFgp8M"
      },
      "execution_count": 2,
      "outputs": []
    },
    {
      "cell_type": "code",
      "source": [
        "import itertools\n",
        "\n",
        "def scs(ss):\n",
        "    \"\"\" Returns shortest common superstring of given\n",
        "        strings, which must be the same length \"\"\"\n",
        "    shortest_sup = None\n",
        "    for ssperm in itertools.permutations(ss):\n",
        "        sup = ssperm[0]  # superstring starts as first string\n",
        "        for i in range(len(ss)-1):\n",
        "            # overlap adjacent strings A and B in the permutation\n",
        "            olen = overlap(ssperm[i], ssperm[i+1], min_length=1)\n",
        "            # add non-overlapping portion of B to superstring\n",
        "            sup += ssperm[i+1][olen:]\n",
        "        if shortest_sup is None or len(sup) < len(shortest_sup):\n",
        "            shortest_sup = sup  # found shorter superstring\n",
        "    return shortest_sup  # return shortest"
      ],
      "metadata": {
        "id": "PFSSjpCIixF_"
      },
      "execution_count": 17,
      "outputs": []
    },
    {
      "cell_type": "code",
      "source": [
        "# First, download the provided a mystery virus\n",
        "\n",
        "!wget https://d28rh4a8wq0iu5.cloudfront.net/ads1/data/ads1_week4_reads.fq"
      ],
      "metadata": {
        "colab": {
          "base_uri": "https://localhost:8080/"
        },
        "id": "vlKNykEDgY3S",
        "outputId": "0b951eea-1ddc-4232-8d7a-c91f1ea76374"
      },
      "execution_count": 3,
      "outputs": [
        {
          "output_type": "stream",
          "name": "stdout",
          "text": [
            "--2025-06-17 10:55:47--  https://d28rh4a8wq0iu5.cloudfront.net/ads1/data/ads1_week4_reads.fq\n",
            "Resolving d28rh4a8wq0iu5.cloudfront.net (d28rh4a8wq0iu5.cloudfront.net)... 99.84.245.194, 99.84.245.120, 99.84.245.66, ...\n",
            "Connecting to d28rh4a8wq0iu5.cloudfront.net (d28rh4a8wq0iu5.cloudfront.net)|99.84.245.194|:443... connected.\n",
            "HTTP request sent, awaiting response... 200 OK\n",
            "Length: 395781 (387K) [video/m2ts]\n",
            "Saving to: ‘ads1_week4_reads.fq’\n",
            "\n",
            "ads1_week4_reads.fq 100%[===================>] 386.50K  --.-KB/s    in 0.1s    \n",
            "\n",
            "2025-06-17 10:55:47 (3.61 MB/s) - ‘ads1_week4_reads.fq’ saved [395781/395781]\n",
            "\n"
          ]
        }
      ]
    },
    {
      "cell_type": "markdown",
      "source": [
        "It's possible for there to be multiple different shortest common superstrings for the same set of input strings. Consider the input strings\n",
        "ABC BCA CAB. One shortest common superstring is ABCAB but another is BCABC and another is CABCA.\n",
        "\n",
        "What is the length of the shortest common superstring of the following strings?\n",
        "\n",
        "CCT, CTT, TGC, TGG, GAT, ATT"
      ],
      "metadata": {
        "id": "J7wANFFbkIr3"
      }
    },
    {
      "cell_type": "code",
      "source": [
        "input_strings = ['CCT', 'CTT', 'TGC', 'TGG', 'GAT', 'ATT']\n",
        "shortest_common_super_string = scs(input_strings)\n",
        "print(shortest_common_super_string, len(shortest_common_super_string))"
      ],
      "metadata": {
        "colab": {
          "base_uri": "https://localhost:8080/"
        },
        "id": "cLnTZ_qsh6Zu",
        "outputId": "56126868-2b2a-455b-a25f-9d9a68d72688"
      },
      "execution_count": 4,
      "outputs": [
        {
          "output_type": "stream",
          "name": "stdout",
          "text": [
            "CCTTGGATTGC 11\n"
          ]
        }
      ]
    },
    {
      "cell_type": "markdown",
      "source": [
        "How many different shortest common superstrings are there for the input strings given in the previous question?"
      ],
      "metadata": {
        "id": "i3yWSaT9kc4A"
      }
    },
    {
      "cell_type": "code",
      "source": [
        "def scs_all(ss):\n",
        "    \"\"\" Returns shortest common superstring of given\n",
        "        strings, which must be the same length \"\"\"\n",
        "\n",
        "\n",
        "    shortest_sup = None\n",
        "    for ssperm in itertools.permutations(ss):\n",
        "        sup = ssperm[0]  # superstring starts as first string\n",
        "        for i in range(len(ss)-1):\n",
        "            # overlap adjacent strings A and B in the permutation\n",
        "            olen = overlap(ssperm[i], ssperm[i+1], min_length=1)\n",
        "            # add non-overlapping portion of B to superstring\n",
        "            sup += ssperm[i+1][olen:]\n",
        "        if shortest_sup is None or len(sup) < len(shortest_sup):\n",
        "            shortest_sup = sup  # found shorter superstring\n",
        "    shortest_len = len(shortest_sup)\n",
        "\n",
        "    scs = set()\n",
        "    for ssperm in itertools.permutations(ss):\n",
        "        sup = ssperm[0]  # superstring starts as first string\n",
        "        for i in range(len(ss)-1):\n",
        "            # overlap adjacent strings A and B in the permutation\n",
        "            olen = overlap(ssperm[i], ssperm[i+1], min_length=1)\n",
        "            # add non-overlapping portion of B to superstring\n",
        "            sup += ssperm[i+1][olen:]\n",
        "        if len(sup) <= shortest_len:\n",
        "            scs.add(sup)\n",
        "    return scs  # return shortest list"
      ],
      "metadata": {
        "id": "XNEllXk5iBKg"
      },
      "execution_count": 5,
      "outputs": []
    },
    {
      "cell_type": "code",
      "source": [
        "input_strings = ['CCT', 'CTT', 'TGC', 'TGG', 'GAT', 'ATT']\n",
        "scs_list = scs_all(input_strings)\n",
        "len(scs_list)"
      ],
      "metadata": {
        "colab": {
          "base_uri": "https://localhost:8080/"
        },
        "id": "RTLKbUm8iCpi",
        "outputId": "8ae4c19b-65c2-440e-dce3-52d03c1fe47b"
      },
      "execution_count": 6,
      "outputs": [
        {
          "output_type": "execute_result",
          "data": {
            "text/plain": [
              "4"
            ]
          },
          "metadata": {},
          "execution_count": 6
        }
      ]
    },
    {
      "cell_type": "code",
      "source": [
        "# Use SeqIO.parse to handle multiple records in the fastq file\n",
        "sequences = list(SeqIO.parse(\"ads1_week4_reads.fq\", \"fastq\"))\n",
        "\n",
        "# Access the sequence from the first record (if you only need one, or loop through all)\n",
        "# For this problem, it seems you want to assemble all reads, so we'll get all sequences\n",
        "reads = [str(seq_record.seq) for seq_record in sequences]\n",
        "\n",
        "# You can now process the 'reads' list. For example, print the first read and the total number of reads:\n",
        "print(\"First read:\", reads[0][:20])\n",
        "print(\"Number of reads:\", len(reads))\n",
        "\n",
        "# Note: 'mys_virus' variable is not created in this corrected code, as you are working with a list of reads now.\n",
        "# If you intended to assemble these reads into a single sequence, that would be the next step."
      ],
      "metadata": {
        "colab": {
          "base_uri": "https://localhost:8080/"
        },
        "id": "b2W1-ejriEBc",
        "outputId": "b18aa7c5-e3a7-4f1b-eb9f-14aa676a9667"
      },
      "execution_count": 8,
      "outputs": [
        {
          "output_type": "stream",
          "name": "stdout",
          "text": [
            "First read: GTCCAGCAGAGCAAGTGATG\n",
            "Number of reads: 1881\n"
          ]
        }
      ]
    },
    {
      "cell_type": "markdown",
      "source": [
        "All the reads are the same length (100 bases) and are exact copies of substrings from the forward strand of the virus genome.  You don't have to worry about sequencing errors, ploidy, or reads coming from the reverse strand.\n",
        "\n",
        "Assemble these reads using one of the approaches discussed, such as greedy shortest common superstring.  Since there are many reads, you might consider ways to make the algorithm faster, such as the one discussed in the programming assignment in the previous module.\n",
        "\n",
        "How many As are there in the full, assembled genome?\n",
        "\n",
        "Hint: the virus genome you are assembling is exactly 15,894 bases long"
      ],
      "metadata": {
        "id": "ZASGWxvmkgTz"
      }
    },
    {
      "cell_type": "code",
      "source": [
        "def pick_maximal_overlap(reads, k):\n",
        "    \"\"\" Return a pair of reads from the list with a\n",
        "        maximal suffix/prefix overlap >= k.  Returns\n",
        "        overlap length 0 if there are no such overlaps.\"\"\"\n",
        "    reada, readb = None, None\n",
        "    best_olen = 0\n",
        "\n",
        "    kmer_dict = {}\n",
        "\n",
        "    for read in reads:\n",
        "        for i in range(len(read)-k+1):\n",
        "            kmer_dict[read[i:i+k]] = set()\n",
        "\n",
        "    for read in reads:\n",
        "        for i in range(len(read)-k+1):\n",
        "            kmer_dict[read[i:i+k]].add(read)\n",
        "\n",
        "    for read in reads:\n",
        "        current_kmer_set = kmer_dict[read[-1*k:]]\n",
        "        for kmer_read in current_kmer_set:\n",
        "            if read != kmer_read:\n",
        "                olen = overlap(read, kmer_read, min_length=k)\n",
        "                if olen > best_olen:\n",
        "                    reada, readb = read, kmer_read\n",
        "                    best_olen = olen\n",
        "    return reada, readb, best_olen"
      ],
      "metadata": {
        "id": "08zgQrCVi1JT"
      },
      "execution_count": 11,
      "outputs": []
    },
    {
      "cell_type": "code",
      "source": [
        "def greedy_scs(reads, k):\n",
        "    \"\"\" Greedy shortest-common-superstring merge.\n",
        "        Repeat until no edges (overlaps of length >= k)\n",
        "        remain. \"\"\"\n",
        "    read_a, read_b, olen = pick_maximal_overlap(reads, k)\n",
        "    while olen > 0:\n",
        "        reads.remove(read_a)\n",
        "        reads.remove(read_b)\n",
        "        reads.append(read_a + read_b[olen:])\n",
        "        read_a, read_b, olen = pick_maximal_overlap(reads, k)\n",
        "    return ''.join(reads)"
      ],
      "metadata": {
        "id": "qyh9UCd_i1q5"
      },
      "execution_count": 12,
      "outputs": []
    },
    {
      "cell_type": "code",
      "source": [
        "%%time\n",
        "ss = greedy_scs(reads, 10)"
      ],
      "metadata": {
        "colab": {
          "base_uri": "https://localhost:8080/"
        },
        "id": "hbL-xKEWi3lW",
        "outputId": "7cb9ca54-6d02-4d86-cf2d-d69128e716fd"
      },
      "execution_count": 13,
      "outputs": [
        {
          "output_type": "stream",
          "name": "stdout",
          "text": [
            "CPU times: user 3min 9s, sys: 1.45 s, total: 3min 11s\n",
            "Wall time: 3min 13s\n"
          ]
        }
      ]
    },
    {
      "cell_type": "code",
      "source": [
        "len(ss)"
      ],
      "metadata": {
        "colab": {
          "base_uri": "https://localhost:8080/"
        },
        "id": "gblU4MaTi47C",
        "outputId": "754906dd-3d66-4a43-fc7d-4944cc6cd729"
      },
      "execution_count": 14,
      "outputs": [
        {
          "output_type": "execute_result",
          "data": {
            "text/plain": [
              "15894"
            ]
          },
          "metadata": {},
          "execution_count": 14
        }
      ]
    },
    {
      "cell_type": "code",
      "source": [
        "i = 0\n",
        "for s in ss:\n",
        "    if s == 'A':\n",
        "        i +=1\n",
        "print('As: ', i)"
      ],
      "metadata": {
        "colab": {
          "base_uri": "https://localhost:8080/"
        },
        "id": "5DQtPhDni5vS",
        "outputId": "03011d5e-182b-43c4-d627-a687fbc7364a"
      },
      "execution_count": 15,
      "outputs": [
        {
          "output_type": "stream",
          "name": "stdout",
          "text": [
            "As:  4633\n"
          ]
        }
      ]
    },
    {
      "cell_type": "markdown",
      "source": [
        "How many Ts are there in the full, assembled genome from the previous question?\n",
        "\n"
      ],
      "metadata": {
        "id": "fcXr0neZkj75"
      }
    },
    {
      "cell_type": "code",
      "source": [
        "j = 0\n",
        "for s in ss:\n",
        "    if s == 'T':\n",
        "        j += 1\n",
        "print('Ts: ', j)"
      ],
      "metadata": {
        "colab": {
          "base_uri": "https://localhost:8080/"
        },
        "id": "0PzGiwSZi7ik",
        "outputId": "f92036e3-08ac-4cce-adb6-fa7fbefae80b"
      },
      "execution_count": 16,
      "outputs": [
        {
          "output_type": "stream",
          "name": "stdout",
          "text": [
            "Ts:  3723\n"
          ]
        }
      ]
    }
  ]
}